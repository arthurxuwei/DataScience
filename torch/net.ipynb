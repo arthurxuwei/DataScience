{
 "cells": [
  {
   "cell_type": "code",
   "execution_count": 1,
   "metadata": {},
   "outputs": [],
   "source": [
    "import torch\n",
    "import torch.nn as nn\n",
    "import torch.nn.init as init\n",
    "import utils"
   ]
  },
  {
   "cell_type": "code",
   "execution_count": 2,
   "metadata": {},
   "outputs": [],
   "source": [
    "train_iter,test_iter = utils.load_data(256,4)"
   ]
  },
  {
   "cell_type": "code",
   "execution_count": 3,
   "metadata": {},
   "outputs": [],
   "source": [
    "class Net(nn.Module):\n",
    "    def __init__(self, num_inputs, num_outputs, num_hiddens):\n",
    "        super(Net, self).__init__()\n",
    "        self.l1 = nn.Linear(num_inputs, num_hiddens)\n",
    "        self.relu1 = nn.ReLU()\n",
    "        self.l2 = nn.Linear(num_hiddens, num_outputs)\n",
    "        \n",
    "    def forward(self, X):\n",
    "        X = X.view(X.shape[0], -1)\n",
    "        o1 = self.relu1(self.l1(X))\n",
    "        o2 = self.l2(o1)\n",
    "        return o2\n",
    "    \n",
    "    def init_params(self):\n",
    "        for param in self.parameters():\n",
    "            init.normal_(param, mean=0, std=0.01)"
   ]
  },
  {
   "cell_type": "code",
   "execution_count": 4,
   "metadata": {},
   "outputs": [],
   "source": [
    "net = Net(28*28, 10, 256)\n",
    "net.init_params()"
   ]
  },
  {
   "cell_type": "code",
   "execution_count": 5,
   "metadata": {},
   "outputs": [],
   "source": [
    "loss = nn.CrossEntropyLoss()\n",
    "optimizer = torch.optim.SGD(net.parameters(),lr=0.5)"
   ]
  },
  {
   "cell_type": "code",
   "execution_count": 6,
   "metadata": {},
   "outputs": [
    {
     "name": "stdout",
     "output_type": "stream",
     "text": [
      "epoch 1, loss 0.0032, train_acc 0.699，test_acc 0.765\n",
      "epoch 2, loss 0.0019, train_acc 0.821，test_acc 0.816\n",
      "epoch 3, loss 0.0017, train_acc 0.842，test_acc 0.787\n",
      "epoch 4, loss 0.0015, train_acc 0.855，test_acc 0.801\n",
      "epoch 5, loss 0.0015, train_acc 0.863，test_acc 0.852\n"
     ]
    }
   ],
   "source": [
    "for epoch in range(5):\n",
    "    train_l_sum, train_acc_sum, n = 0.0, 0.0, 0\n",
    "    for X, y in train_iter:\n",
    "        y_hat = net(X)\n",
    "        l = loss(y_hat, y).sum()\n",
    "        l.backward()\n",
    "        optimizer.step()\n",
    "        optimizer.zero_grad()\n",
    "        \n",
    "        train_l_sum += l.item()\n",
    "        train_acc_sum += (y_hat.argmax(dim=1) == y).sum().item()\n",
    "        n += y.shape[0]\n",
    "    test_acc = utils.evaluate_accuracy(test_iter, net)\n",
    "    print('epoch %d, loss %.4f, train_acc %.3f，test_acc %.3f' % (epoch + 1, train_l_sum / n, train_acc_sum / n, test_acc))"
   ]
  },
  {
   "cell_type": "code",
   "execution_count": null,
   "metadata": {},
   "outputs": [],
   "source": []
  }
 ],
 "metadata": {
  "kernelspec": {
   "display_name": "Python 3",
   "language": "python",
   "name": "python3"
  },
  "language_info": {
   "codemirror_mode": {
    "name": "ipython",
    "version": 3
   },
   "file_extension": ".py",
   "mimetype": "text/x-python",
   "name": "python",
   "nbconvert_exporter": "python",
   "pygments_lexer": "ipython3",
   "version": "3.9.5"
  }
 },
 "nbformat": 4,
 "nbformat_minor": 4
}
